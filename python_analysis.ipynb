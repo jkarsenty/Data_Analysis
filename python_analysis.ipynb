{
 "cells": [
  {
   "cell_type": "code",
   "execution_count": 1,
   "metadata": {},
   "outputs": [
    {
     "name": "stderr",
     "output_type": "stream",
     "text": [
      "Matplotlib is building the font cache; this may take a moment.\n"
     ]
    }
   ],
   "source": [
    "import pandas as pd\n",
    "import numpy as np\n",
    "import matplotlib.pyplot as plt\n",
    "%matplotlib inline\n",
    "import seaborn as sns"
   ]
  },
  {
   "cell_type": "code",
   "execution_count": 2,
   "metadata": {},
   "outputs": [
    {
     "data": {
      "text/html": [
       "<div>\n",
       "<style scoped>\n",
       "    .dataframe tbody tr th:only-of-type {\n",
       "        vertical-align: middle;\n",
       "    }\n",
       "\n",
       "    .dataframe tbody tr th {\n",
       "        vertical-align: top;\n",
       "    }\n",
       "\n",
       "    .dataframe thead th {\n",
       "        text-align: right;\n",
       "    }\n",
       "</style>\n",
       "<table border=\"1\" class=\"dataframe\">\n",
       "  <thead>\n",
       "    <tr style=\"text-align: right;\">\n",
       "      <th></th>\n",
       "      <th>date_operation</th>\n",
       "      <th>libelle</th>\n",
       "      <th>montant</th>\n",
       "      <th>solde_avt_ope</th>\n",
       "      <th>categ</th>\n",
       "      <th>type</th>\n",
       "      <th>tranche_depense</th>\n",
       "      <th>sens</th>\n",
       "      <th>annee</th>\n",
       "      <th>mois</th>\n",
       "      <th>jour</th>\n",
       "      <th>jour_sem</th>\n",
       "      <th>jour_sem_num</th>\n",
       "      <th>weekend</th>\n",
       "      <th>quart_mois</th>\n",
       "    </tr>\n",
       "  </thead>\n",
       "  <tbody>\n",
       "    <tr>\n",
       "      <td>0</td>\n",
       "      <td>2023-03-31</td>\n",
       "      <td>DON XX XX XX XX XX XX XX</td>\n",
       "      <td>-1.44</td>\n",
       "      <td>1515.25</td>\n",
       "      <td>AUTRE</td>\n",
       "      <td>DON</td>\n",
       "      <td>petite</td>\n",
       "      <td>debit</td>\n",
       "      <td>2023</td>\n",
       "      <td>3</td>\n",
       "      <td>31</td>\n",
       "      <td>Friday</td>\n",
       "      <td>5</td>\n",
       "      <td>False</td>\n",
       "      <td>4</td>\n",
       "    </tr>\n",
       "    <tr>\n",
       "      <td>1</td>\n",
       "      <td>2023-04-03</td>\n",
       "      <td>CARTE XX XX RAPT XX</td>\n",
       "      <td>-24.00</td>\n",
       "      <td>1513.81</td>\n",
       "      <td>TRANSPORT</td>\n",
       "      <td>CARTE</td>\n",
       "      <td>petite</td>\n",
       "      <td>debit</td>\n",
       "      <td>2023</td>\n",
       "      <td>4</td>\n",
       "      <td>3</td>\n",
       "      <td>Monday</td>\n",
       "      <td>1</td>\n",
       "      <td>False</td>\n",
       "      <td>1</td>\n",
       "    </tr>\n",
       "    <tr>\n",
       "      <td>2</td>\n",
       "      <td>2023-04-03</td>\n",
       "      <td>CARTE XX XX RAPT XX</td>\n",
       "      <td>-73.00</td>\n",
       "      <td>1489.81</td>\n",
       "      <td>TRANSPORT</td>\n",
       "      <td>CARTE</td>\n",
       "      <td>moyenne</td>\n",
       "      <td>debit</td>\n",
       "      <td>2023</td>\n",
       "      <td>4</td>\n",
       "      <td>3</td>\n",
       "      <td>Monday</td>\n",
       "      <td>1</td>\n",
       "      <td>False</td>\n",
       "      <td>1</td>\n",
       "    </tr>\n",
       "  </tbody>\n",
       "</table>\n",
       "</div>"
      ],
      "text/plain": [
       "  date_operation                   libelle  montant  solde_avt_ope      categ  \\\n",
       "0     2023-03-31  DON XX XX XX XX XX XX XX    -1.44        1515.25      AUTRE   \n",
       "1     2023-04-03       CARTE XX XX RAPT XX   -24.00        1513.81  TRANSPORT   \n",
       "2     2023-04-03       CARTE XX XX RAPT XX   -73.00        1489.81  TRANSPORT   \n",
       "\n",
       "    type tranche_depense   sens  annee  mois  jour jour_sem  jour_sem_num  \\\n",
       "0    DON          petite  debit   2023     3    31   Friday             5   \n",
       "1  CARTE          petite  debit   2023     4     3   Monday             1   \n",
       "2  CARTE         moyenne  debit   2023     4     3   Monday             1   \n",
       "\n",
       "   weekend  quart_mois  \n",
       "0    False           4  \n",
       "1    False           1  \n",
       "2    False           1  "
      ]
     },
     "execution_count": 2,
     "metadata": {},
     "output_type": "execute_result"
    }
   ],
   "source": [
    "# Importation de notre fichier APRES preprocessing \n",
    "data = pd.read_csv(\"operations_enrichies.csv\", parse_dates=[0])\n",
    "data.head(3)"
   ]
  },
  {
   "cell_type": "markdown",
   "metadata": {},
   "source": [
    "# Représenter une variable sous forme de graphique"
   ]
  },
  {
   "cell_type": "code",
   "execution_count": 3,
   "metadata": {},
   "outputs": [
    {
     "data": {
      "image/png": "[encoded data removed]",
      "text/plain": [
       "<Figure size 720x504 with 1 Axes>"
      ]
     },
     "metadata": {
      "needs_background": "light"
     },
     "output_type": "display_data"
    }
   ],
   "source": [
    "data['categ'].value_counts(normalize=True).plot(kind='bar',figsize=(10,7))\n",
    "plt.show()"
   ]
  },
  {
   "cell_type": "code",
   "execution_count": 5,
   "metadata": {},
   "outputs": [
    {
     "data": {
      "image/png": "[encoded data removed]",
      "text/plain": [
       "<Figure size 504x360 with 1 Axes>"
      ]
     },
     "metadata": {
      "needs_background": "light"
     },
     "output_type": "display_data"
    }
   ],
   "source": [
    "data[data.montant.abs() < 100][\"montant\"].hist(density=True,bins=20,figsize=(7,5))\n",
    "plt.show()"
   ]
  },
  {
   "cell_type": "code",
   "execution_count": 6,
   "metadata": {},
   "outputs": [
    {
     "data": {
      "image/png": "[encoded data removed]",
      "text/plain": [
       "<Figure size 504x360 with 1 Axes>"
      ]
     },
     "metadata": {},
     "output_type": "display_data"
    },
    {
     "data": {
      "image/png": "[encoded data removed]",
      "text/plain": [
       "<Figure size 504x360 with 1 Axes>"
      ]
     },
     "metadata": {
      "needs_background": "light"
     },
     "output_type": "display_data"
    }
   ],
   "source": [
    "## VARIABLE QUALITATIVE ##\n",
    "\n",
    "# Diagramme en secteurs\n",
    "data[\"categ\"].value_counts(normalize=True).plot(kind='pie', figsize=(7,5))\n",
    "# Cette ligne assure que le pie chart est un cercle plutôt qu'une éllipse\n",
    "plt.axis('equal') \n",
    "plt.show() # Affiche le graphique\n",
    "\n",
    "# Diagramme en tuyaux d'orgues\n",
    "data[\"categ\"].value_counts(normalize=True).plot(kind='bar', figsize=(7,5))\n",
    "plt.show()\n"
   ]
  },
  {
   "cell_type": "code",
   "execution_count": 9,
   "metadata": {},
   "outputs": [
    {
     "data": {
      "image/png": "[encoded data removed]",
      "text/plain": [
       "<Figure size 504x360 with 1 Axes>"
      ]
     },
     "metadata": {
      "needs_background": "light"
     },
     "output_type": "display_data"
    },
    {
     "data": {
      "image/png": "[encoded data removed]",
      "text/plain": [
       "<Figure size 432x288 with 1 Axes>"
      ]
     },
     "metadata": {
      "needs_background": "light"
     },
     "output_type": "display_data"
    },
    {
     "data": {
      "image/png": "[encoded data removed]",
      "text/plain": [
       "<Figure size 504x360 with 1 Axes>"
      ]
     },
     "metadata": {
      "needs_background": "light"
     },
     "output_type": "display_data"
    }
   ],
   "source": [
    "## VARIABLE QUANTITATIVE ##\n",
    "\n",
    "## Diagramme en bâtons\n",
    "data[\"quart_mois\"].value_counts(normalize=True).plot(kind='bar', width=0.1, figsize=(7,5))\n",
    "plt.show()\n",
    "\n",
    "## Histogramme\n",
    "data[\"montant\"].hist(density=True)\n",
    "plt.show()\n",
    "\n",
    "## Histogramme plus beau\n",
    "data[data.montant.abs() < 100][\"montant\"].hist(density=True, bins=20, figsize=(7,5))\n",
    "# on a restreint a -100 < montant < 100\n",
    "plt.show() \n",
    "\n",
    "# nombre optimal de classe d'un histogramme k = [1+log2(n)] ave n la taille de l'echantillon"
   ]
  },
  {
   "cell_type": "markdown",
   "metadata": {
    "collapsed": true
   },
   "source": [
    "# Représenter une variable sous forme de tableau"
   ]
  },
  {
   "cell_type": "code",
   "execution_count": 10,
   "metadata": {},
   "outputs": [],
   "source": [
    "# Recuperation modalite et effectif\n",
    "effectifs = data[\"quart_mois\"].value_counts()\n",
    "modalites = effectifs.index"
   ]
  },
  {
   "cell_type": "code",
   "execution_count": 11,
   "metadata": {},
   "outputs": [
    {
     "data": {
      "text/html": [
       "<div>\n",
       "<style scoped>\n",
       "    .dataframe tbody tr th:only-of-type {\n",
       "        vertical-align: middle;\n",
       "    }\n",
       "\n",
       "    .dataframe tbody tr th {\n",
       "        vertical-align: top;\n",
       "    }\n",
       "\n",
       "    .dataframe thead th {\n",
       "        text-align: right;\n",
       "    }\n",
       "</style>\n",
       "<table border=\"1\" class=\"dataframe\">\n",
       "  <thead>\n",
       "    <tr style=\"text-align: right;\">\n",
       "      <th></th>\n",
       "      <th>quart_mois</th>\n",
       "    </tr>\n",
       "  </thead>\n",
       "  <tbody>\n",
       "    <tr>\n",
       "      <td>0</td>\n",
       "      <td>1</td>\n",
       "    </tr>\n",
       "    <tr>\n",
       "      <td>1</td>\n",
       "      <td>2</td>\n",
       "    </tr>\n",
       "    <tr>\n",
       "      <td>2</td>\n",
       "      <td>3</td>\n",
       "    </tr>\n",
       "    <tr>\n",
       "      <td>3</td>\n",
       "      <td>4</td>\n",
       "    </tr>\n",
       "  </tbody>\n",
       "</table>\n",
       "</div>"
      ],
      "text/plain": [
       "   quart_mois\n",
       "0           1\n",
       "1           2\n",
       "2           3\n",
       "3           4"
      ]
     },
     "execution_count": 11,
     "metadata": {},
     "output_type": "execute_result"
    }
   ],
   "source": [
    "# Mise sous forme de dataframe\n",
    "tab = pd.DataFrame(modalites, columns = [\"quart_mois\"])\n",
    "\n",
    "tab"
   ]
  },
  {
   "cell_type": "code",
   "execution_count": 12,
   "metadata": {},
   "outputs": [
    {
     "data": {
      "text/html": [
       "<div>\n",
       "<style scoped>\n",
       "    .dataframe tbody tr th:only-of-type {\n",
       "        vertical-align: middle;\n",
       "    }\n",
       "\n",
       "    .dataframe tbody tr th {\n",
       "        vertical-align: top;\n",
       "    }\n",
       "\n",
       "    .dataframe thead th {\n",
       "        text-align: right;\n",
       "    }\n",
       "</style>\n",
       "<table border=\"1\" class=\"dataframe\">\n",
       "  <thead>\n",
       "    <tr style=\"text-align: right;\">\n",
       "      <th></th>\n",
       "      <th>quart_mois</th>\n",
       "      <th>n</th>\n",
       "    </tr>\n",
       "  </thead>\n",
       "  <tbody>\n",
       "    <tr>\n",
       "      <td>0</td>\n",
       "      <td>1</td>\n",
       "      <td>86</td>\n",
       "    </tr>\n",
       "    <tr>\n",
       "      <td>1</td>\n",
       "      <td>2</td>\n",
       "      <td>76</td>\n",
       "    </tr>\n",
       "    <tr>\n",
       "      <td>2</td>\n",
       "      <td>3</td>\n",
       "      <td>75</td>\n",
       "    </tr>\n",
       "    <tr>\n",
       "      <td>3</td>\n",
       "      <td>4</td>\n",
       "      <td>71</td>\n",
       "    </tr>\n",
       "  </tbody>\n",
       "</table>\n",
       "</div>"
      ],
      "text/plain": [
       "   quart_mois   n\n",
       "0           1  86\n",
       "1           2  76\n",
       "2           3  75\n",
       "3           4  71"
      ]
     },
     "execution_count": 12,
     "metadata": {},
     "output_type": "execute_result"
    }
   ],
   "source": [
    "# Ajout des effectifs\n",
    "tab[\"n\"] = effectifs.values\n",
    "\n",
    "tab"
   ]
  },
  {
   "cell_type": "code",
   "execution_count": 13,
   "metadata": {},
   "outputs": [
    {
     "data": {
      "text/html": [
       "<div>\n",
       "<style scoped>\n",
       "    .dataframe tbody tr th:only-of-type {\n",
       "        vertical-align: middle;\n",
       "    }\n",
       "\n",
       "    .dataframe tbody tr th {\n",
       "        vertical-align: top;\n",
       "    }\n",
       "\n",
       "    .dataframe thead th {\n",
       "        text-align: right;\n",
       "    }\n",
       "</style>\n",
       "<table border=\"1\" class=\"dataframe\">\n",
       "  <thead>\n",
       "    <tr style=\"text-align: right;\">\n",
       "      <th></th>\n",
       "      <th>quart_mois</th>\n",
       "      <th>n</th>\n",
       "      <th>f</th>\n",
       "    </tr>\n",
       "  </thead>\n",
       "  <tbody>\n",
       "    <tr>\n",
       "      <td>0</td>\n",
       "      <td>1</td>\n",
       "      <td>86</td>\n",
       "      <td>0.279221</td>\n",
       "    </tr>\n",
       "    <tr>\n",
       "      <td>1</td>\n",
       "      <td>2</td>\n",
       "      <td>76</td>\n",
       "      <td>0.246753</td>\n",
       "    </tr>\n",
       "    <tr>\n",
       "      <td>2</td>\n",
       "      <td>3</td>\n",
       "      <td>75</td>\n",
       "      <td>0.243506</td>\n",
       "    </tr>\n",
       "    <tr>\n",
       "      <td>3</td>\n",
       "      <td>4</td>\n",
       "      <td>71</td>\n",
       "      <td>0.230519</td>\n",
       "    </tr>\n",
       "  </tbody>\n",
       "</table>\n",
       "</div>"
      ],
      "text/plain": [
       "   quart_mois   n         f\n",
       "0           1  86  0.279221\n",
       "1           2  76  0.246753\n",
       "2           3  75  0.243506\n",
       "3           4  71  0.230519"
      ]
     },
     "execution_count": 13,
     "metadata": {},
     "output_type": "execute_result"
    }
   ],
   "source": [
    "# Ajout des frequences\n",
    "tab[\"f\"] = tab[\"n\"] / len(data)\n",
    "\n",
    "tab"
   ]
  },
  {
   "cell_type": "code",
   "execution_count": 14,
   "metadata": {},
   "outputs": [
    {
     "data": {
      "text/html": [
       "<div>\n",
       "<style scoped>\n",
       "    .dataframe tbody tr th:only-of-type {\n",
       "        vertical-align: middle;\n",
       "    }\n",
       "\n",
       "    .dataframe tbody tr th {\n",
       "        vertical-align: top;\n",
       "    }\n",
       "\n",
       "    .dataframe thead th {\n",
       "        text-align: right;\n",
       "    }\n",
       "</style>\n",
       "<table border=\"1\" class=\"dataframe\">\n",
       "  <thead>\n",
       "    <tr style=\"text-align: right;\">\n",
       "      <th></th>\n",
       "      <th>quart_mois</th>\n",
       "      <th>n</th>\n",
       "      <th>f</th>\n",
       "      <th>F</th>\n",
       "    </tr>\n",
       "  </thead>\n",
       "  <tbody>\n",
       "    <tr>\n",
       "      <td>0</td>\n",
       "      <td>1</td>\n",
       "      <td>86</td>\n",
       "      <td>0.279221</td>\n",
       "      <td>0.279221</td>\n",
       "    </tr>\n",
       "    <tr>\n",
       "      <td>1</td>\n",
       "      <td>2</td>\n",
       "      <td>76</td>\n",
       "      <td>0.246753</td>\n",
       "      <td>0.525974</td>\n",
       "    </tr>\n",
       "    <tr>\n",
       "      <td>2</td>\n",
       "      <td>3</td>\n",
       "      <td>75</td>\n",
       "      <td>0.243506</td>\n",
       "      <td>0.769481</td>\n",
       "    </tr>\n",
       "    <tr>\n",
       "      <td>3</td>\n",
       "      <td>4</td>\n",
       "      <td>71</td>\n",
       "      <td>0.230519</td>\n",
       "      <td>1.000000</td>\n",
       "    </tr>\n",
       "  </tbody>\n",
       "</table>\n",
       "</div>"
      ],
      "text/plain": [
       "   quart_mois   n         f         F\n",
       "0           1  86  0.279221  0.279221\n",
       "1           2  76  0.246753  0.525974\n",
       "2           3  75  0.243506  0.769481\n",
       "3           4  71  0.230519  1.000000"
      ]
     },
     "execution_count": 14,
     "metadata": {},
     "output_type": "execute_result"
    }
   ],
   "source": [
    "# Ajout des frequences cumulées\n",
    "tab = tab.sort_values(\"quart_mois\")\n",
    "tab[\"F\"] = tab[\"f\"].cumsum()\n",
    "\n",
    "tab"
   ]
  },
  {
   "cell_type": "markdown",
   "metadata": {},
   "source": [
    "# Mesures de tendance centrale, de dispersion et de forme"
   ]
  },
  {
   "cell_type": "code",
   "execution_count": 15,
   "metadata": {},
   "outputs": [
    {
     "data": {
      "text/plain": [
       "2.872564935064936"
      ]
     },
     "execution_count": 15,
     "metadata": {},
     "output_type": "execute_result"
    }
   ],
   "source": [
    "#moyenne\n",
    "data['montant'].mean()"
   ]
  },
  {
   "cell_type": "code",
   "execution_count": 16,
   "metadata": {},
   "outputs": [
    {
     "data": {
      "text/plain": [
       "-9.6"
      ]
     },
     "execution_count": 16,
     "metadata": {},
     "output_type": "execute_result"
    }
   ],
   "source": [
    "#mediane\n",
    "data['montant'].median()"
   ]
  },
  {
   "cell_type": "code",
   "execution_count": 17,
   "metadata": {},
   "outputs": [
    {
     "data": {
      "text/plain": [
       "0   -1.6\n",
       "dtype: float64"
      ]
     },
     "execution_count": 17,
     "metadata": {},
     "output_type": "execute_result"
    }
   ],
   "source": [
    "#mode == valeur la plus frequente\n",
    "data['montant'].mode()"
   ]
  },
  {
   "cell_type": "code",
   "execution_count": 18,
   "metadata": {
    "scrolled": true
   },
   "outputs": [
    {
     "name": "stdout",
     "output_type": "stream",
     "text": [
      "--------------------\n",
      "AUTRE\n",
      "mean:\n",
      " 23.43320754716981\n",
      "median:\n",
      " -8.31\n",
      "mode:\n",
      " -1.6\n",
      "var:\n",
      " 40401.82999254183\n",
      "std:\n",
      " 201.00206464746034\n",
      "skw:\n",
      " 3.1215325222336427\n",
      "kur:\n",
      " 12.716537970826296\n"
     ]
    },
    {
     "data": {
      "image/png": "[encoded data removed]",
      "text/plain": [
       "<Figure size 504x360 with 1 Axes>"
      ]
     },
     "metadata": {
      "needs_background": "light"
     },
     "output_type": "display_data"
    },
    {
     "data": {
      "image/png": "[encoded data removed]",
      "text/plain": [
       "<Figure size 504x360 with 1 Axes>"
      ]
     },
     "metadata": {
      "needs_background": "light"
     },
     "output_type": "display_data"
    },
    {
     "name": "stdout",
     "output_type": "stream",
     "text": [
      "--------------------\n",
      "TRANSPORT\n",
      "mean:\n",
      " -52.99714285714286\n",
      "median:\n",
      " -53.1\n",
      "mode:\n",
      " -73.0\n",
      "var:\n",
      " 2205.016868027212\n",
      "std:\n",
      " 46.95760713694014\n",
      "skw:\n",
      " -1.248265076217821\n",
      "kur:\n",
      " 2.1922705326917487\n"
     ]
    },
    {
     "data": {
      "image/png": "[encoded data removed]",
      "text/plain": [
       "<Figure size 504x360 with 1 Axes>"
      ]
     },
     "metadata": {
      "needs_background": "light"
     },
     "output_type": "display_data"
    },
    {
     "data": {
      "image/png": "[encoded data removed]",
      "text/plain": [
       "<Figure size 504x360 with 1 Axes>"
      ]
     },
     "metadata": {
      "needs_background": "light"
     },
     "output_type": "display_data"
    },
    {
     "name": "stdout",
     "output_type": "stream",
     "text": [
      "--------------------\n",
      "FACTURE TELEPHONE\n",
      "mean:\n",
      " -12.045714285714283\n",
      "median:\n",
      " -7.02\n",
      "mode:\n",
      " -7.02\n",
      "var:\n",
      " 105.01905306122445\n",
      "std:\n",
      " 10.247880417980317\n",
      "skw:\n",
      " -2.3876514564281526\n",
      "kur:\n",
      " 5.798563367885492\n"
     ]
    },
    {
     "data": {
      "image/png": "[encoded data removed]",
      "text/plain": [
       "<Figure size 504x360 with 1 Axes>"
      ]
     },
     "metadata": {
      "needs_background": "light"
     },
     "output_type": "display_data"
    },
    {
     "data": {
      "image/png": "[encoded data removed]",
      "text/plain": [
       "<Figure size 504x360 with 1 Axes>"
      ]
     },
     "metadata": {
      "needs_background": "light"
     },
     "output_type": "display_data"
    },
    {
     "name": "stdout",
     "output_type": "stream",
     "text": [
      "--------------------\n",
      "COURSES\n",
      "mean:\n",
      " -16.341282051282054\n",
      "median:\n",
      " -12.24\n",
      "mode:\n",
      " -60.16\n",
      "var:\n",
      " 177.0253547666009\n",
      "std:\n",
      " 13.3050875520081\n",
      "skw:\n",
      " -1.246748830645698\n",
      "kur:\n",
      " 1.604730494087499\n"
     ]
    },
    {
     "data": {
      "image/png": "[encoded data removed]",
      "text/plain": [
       "<Figure size 504x360 with 1 Axes>"
      ]
     },
     "metadata": {
      "needs_background": "light"
     },
     "output_type": "display_data"
    },
    {
     "data": {
      "image/png": "[encoded data removed]",
      "text/plain": [
       "<Figure size 504x360 with 1 Axes>"
      ]
     },
     "metadata": {
      "needs_background": "light"
     },
     "output_type": "display_data"
    },
    {
     "name": "stdout",
     "output_type": "stream",
     "text": [
      "--------------------\n",
      "COTISATION BANCAIRE\n",
      "mean:\n",
      " -1.8857142857142857\n",
      "median:\n",
      " -1.92\n",
      "mode:\n",
      " -1.92\n",
      "var:\n",
      " 0.0015673469387755044\n",
      "std:\n",
      " 0.03958973274443141\n",
      "skw:\n",
      " 0.37416573867739106\n",
      "kur:\n",
      " -2.800000000000003\n"
     ]
    },
    {
     "data": {
      "image/png": "[encoded data removed]",
      "text/plain": [
       "<Figure size 504x360 with 1 Axes>"
      ]
     },
     "metadata": {
      "needs_background": "light"
     },
     "output_type": "display_data"
    },
    {
     "data": {
      "image/png": "[encoded data removed]",
      "text/plain": [
       "<Figure size 504x360 with 1 Axes>"
      ]
     },
     "metadata": {
      "needs_background": "light"
     },
     "output_type": "display_data"
    },
    {
     "name": "stdout",
     "output_type": "stream",
     "text": [
      "--------------------\n",
      "RESTAURANT\n",
      "mean:\n",
      " -10.3325\n",
      "median:\n",
      " -10.1\n",
      "mode:\n",
      " -9.2\n",
      "var:\n",
      " 2.8531937500000004\n",
      "std:\n",
      " 1.689139943876765\n",
      "skw:\n",
      " -0.8883503487158837\n",
      "kur:\n",
      " 0.5988855591691937\n"
     ]
    },
    {
     "data": {
      "image/png": "[encoded data removed]",
      "text/plain": [
       "<Figure size 504x360 with 1 Axes>"
      ]
     },
     "metadata": {
      "needs_background": "light"
     },
     "output_type": "display_data"
    },
    {
     "data": {
      "image/png": "[encoded data removed]",
      "text/plain": [
       "<Figure size 504x360 with 1 Axes>"
      ]
     },
     "metadata": {
      "needs_background": "light"
     },
     "output_type": "display_data"
    },
    {
     "name": "stdout",
     "output_type": "stream",
     "text": [
      "--------------------\n",
      "LOYER\n",
      "mean:\n",
      " -345.0\n",
      "median:\n",
      " -345.0\n",
      "mode:\n",
      " -345.0\n",
      "var:\n",
      " 0.0\n",
      "std:\n",
      " 0.0\n",
      "skw:\n",
      " 0\n",
      "kur:\n",
      " 0\n"
     ]
    },
    {
     "data": {
      "image/png": "[encoded data removed]",
      "text/plain": [
       "<Figure size 504x360 with 1 Axes>"
      ]
     },
     "metadata": {
      "needs_background": "light"
     },
     "output_type": "display_data"
    },
    {
     "data": {
      "image/png": "[encoded data removed]",
      "text/plain": [
       "<Figure size 504x360 with 1 Axes>"
      ]
     },
     "metadata": {
      "needs_background": "light"
     },
     "output_type": "display_data"
    }
   ],
   "source": [
    "## Calcul des tendances centrales, dispersion et de formes par categorie\n",
    "\n",
    "for cat in data[\"categ\"].unique():\n",
    "    sous_echantillon = data[data.categ == cat]\n",
    "    print(\"-\"*20)\n",
    "    print(cat)\n",
    "    print(\"mean:\\n\",sous_echantillon['montant'].mean())\n",
    "    print(\"median:\\n\",sous_echantillon['montant'].median())\n",
    "    print(\"mode:\\n\",sous_echantillon['montant'].mode()[0])\n",
    "    \n",
    "    #mesure de distribution\n",
    "    print(\"var:\\n\",sous_echantillon['montant'].var(ddof=0))\n",
    "    print(\"std:\\n\",sous_echantillon['montant'].std(ddof=0))\n",
    "    \n",
    "    #mesure de forme\n",
    "    print(\"skw:\\n\",sous_echantillon['montant'].skew()) #skewness une mesure d'asymetrie\n",
    "    print(\"kur:\\n\",sous_echantillon['montant'].kurtosis()) #mesure d'aplatissement par rapport a une Gaussienne\n",
    "    \n",
    "    sous_echantillon[\"montant\"].hist(figsize=(7,5)) # Crée l'histogramme\n",
    "    plt.show() # Affiche l'histogramme\n",
    "    \n",
    "    sous_echantillon.boxplot(column=\"montant\", vert=False, figsize=(7,5))\n",
    "    plt.show()"
   ]
  },
  {
   "cell_type": "markdown",
   "metadata": {},
   "source": [
    "###### Skewness empirique: \n",
    "γ1 = μ3/s3  \n",
    "avec μ3 = (1/n) * ∑ (xi − x_barre)^3  \n",
    "  \n",
    "Si γ1 = 0, alors la distribution est symétrique.  \n",
    "Si γ1 > 0, alors la distribution est étalée à droite.  \n",
    "Si γ1 < 0, alors la distribution est étalée à gauche \n",
    "\n",
    "###### Kurtosis\n",
    "\n",
    "γ2 = μ4/s4 − 3  \n",
    "avec μ4 = (1/n)* ∑ (xi − x_barre)^4  \n",
    "  \n",
    "Si γ2 = 0, alors la distribution a le même aplatissement que la distribution normale.  \n",
    "Si γ2 > 0, alors elle est moins aplatie que la distribution normale : les observations sont plus concentrées.  \n",
    "Si γ2 < 0, alors les observations sont moins concentrées : la distribution est plus aplatie.  "
   ]
  },
  {
   "cell_type": "markdown",
   "metadata": {},
   "source": [
    "# Mesures de concentration"
   ]
  },
  {
   "cell_type": "code",
   "execution_count": 19,
   "metadata": {},
   "outputs": [
    {
     "data": {
      "image/png": "[encoded data removed]",
      "text/plain": [
       "<Figure size 504x360 with 1 Axes>"
      ]
     },
     "metadata": {
      "needs_background": "light"
     },
     "output_type": "display_data"
    }
   ],
   "source": [
    "## Courbe de Lorenz\n",
    "#modélise la repartition de la concentration par individu\n",
    "\n",
    "depenses = data[data['montant'] < 0]\n",
    "dep = -depenses['montant'].values\n",
    "lorenz = np.cumsum(np.sort(dep)) / dep.sum()\n",
    "lorenz = np.append([0],lorenz) # La courbe de Lorenz commence à 0\n",
    "\n",
    "plt.figure(figsize=(7,5))\n",
    "plt.plot(np.linspace(0,1,len(lorenz)),lorenz,drawstyle='steps-post',label= \"Courbe de Lorenz\")\n",
    "plt.plot(np.linspace(0,1,len(lorenz)),np.linspace(0,1,len(lorenz)), label = \"1ere Bissectrice\")\n",
    "plt.title(\"Courbe de repartition des montants\")\n",
    "plt.legend()\n",
    "plt.show()"
   ]
  },
  {
   "cell_type": "code",
   "execution_count": 20,
   "metadata": {},
   "outputs": [
    {
     "name": "stdout",
     "output_type": "stream",
     "text": [
      "Indice de Gini: 0.7248207406842819\n"
     ]
    }
   ],
   "source": [
    "## Indice de Gini\n",
    "#mesure la concentration de la repartition \n",
    "\n",
    "aire_ss_courbe = lorenz[:-1].sum()/len(lorenz) # aire sous la courbe de Lorenz. La dernière valeur ne participe pas à l'aire, d'où \"[:-1]\"\n",
    "S = 0.5 - aire_ss_courbe # aire entre la 1e bissectrice et la courbe de Lorenz\n",
    "gini = 2*S\n",
    "\n",
    "print(\"Indice de Gini:\",gini)"
   ]
  },
  {
   "cell_type": "markdown",
   "metadata": {},
   "source": [
    "# Autres mesures"
   ]
  },
  {
   "cell_type": "markdown",
   "metadata": {},
   "source": [
    "###### Formule General de la Moyenne\n",
    "\n",
    "Mp = ( (1/n) * ∑ ni * (ai)^p )^(1/p)  \n",
    "\n",
    "M1  est la moyenne arithmétique x_barre.  \n",
    "M2  est la moyenne quadratique.  \n",
    "M-1 est la moyenne harmonique H."
   ]
  },
  {
   "cell_type": "markdown",
   "metadata": {},
   "source": [
    "# Analyse bivariée : 2 variables quanti"
   ]
  },
  {
   "cell_type": "code",
   "execution_count": 21,
   "metadata": {},
   "outputs": [
    {
     "data": {
      "image/png": "[encoded data removed]",
      "text/plain": [
       "<Figure size 504x360 with 1 Axes>"
      ]
     },
     "metadata": {
      "needs_background": "light"
     },
     "output_type": "display_data"
    }
   ],
   "source": [
    "depenses = data[data.montant < 0]\n",
    "\n",
    "plt.figure(figsize=(7,5))\n",
    "plt.plot(depenses[\"solde_avt_ope\"],-depenses[\"montant\"],'o',alpha=0.5)\n",
    "plt.xlabel(\"solde avant opération\")\n",
    "plt.ylabel(\"montant de dépense\")\n",
    "plt.show()"
   ]
  },
  {
   "cell_type": "code",
   "execution_count": 22,
   "metadata": {},
   "outputs": [],
   "source": [
    "taille_classe = 500 # taille des classes pour la discrétisation\n",
    "\n",
    "groupes = [] # va recevoir les données agrégées à afficher\n",
    "\n",
    "# on calcule des tranches allant de 0 au solde maximum par paliers de taille taille_classe\n",
    "tranches = np.arange(0, max(depenses[\"solde_avt_ope\"]), taille_classe)\n",
    "tranches += taille_classe/2 # on décale les tranches d'une demi taille de classe\n",
    "indices = np.digitize(depenses[\"solde_avt_ope\"], tranches) # associe chaque solde à son numéro de classe\n",
    "\n",
    "for ind, tr in enumerate(tranches): # pour chaque tranche, ind reçoit le numéro de tranche et tr la tranche en question\n",
    "    montants = -depenses.loc[indices==ind,\"montant\"] # sélection des individus de la tranche ind\n",
    "    if len(montants) > 0:\n",
    "        g = {\n",
    "            'valeurs': montants,\n",
    "            'centre_classe': tr-(taille_classe/2),\n",
    "            'taille': len(montants),\n",
    "            'quartiles': [np.percentile(montants,p) for p in [25,50,75]]\n",
    "        }\n",
    "        groupes.append(g)"
   ]
  },
  {
   "cell_type": "code",
   "execution_count": 23,
   "metadata": {},
   "outputs": [
    {
     "data": {
      "image/png": "[encoded data removed]",
      "text/plain": [
       "<Figure size 504x360 with 1 Axes>"
      ]
     },
     "metadata": {
      "needs_background": "light"
     },
     "output_type": "display_data"
    },
    {
     "data": {
      "image/png": "[encoded data removed]",
      "text/plain": [
       "<Figure size 504x360 with 1 Axes>"
      ]
     },
     "metadata": {
      "needs_background": "light"
     },
     "output_type": "display_data"
    }
   ],
   "source": [
    "# affichage des boxplots\n",
    "plt.figure(figsize=(7,5))\n",
    "plt.boxplot([g[\"valeurs\"] for g in groupes],\n",
    "            positions= [g[\"centre_classe\"] for g in groupes], # abscisses des boxplots\n",
    "            showfliers= False, # on ne prend pas en compte les outliers\n",
    "            widths= taille_classe*0.7, # largeur graphique des boxplots\n",
    "           )\n",
    "\n",
    "# affichage des effectifs de chaque classe\n",
    "for g in groupes:\n",
    "    plt.text(g[\"centre_classe\"],0,\"(n={})\".format(g[\"taille\"]),horizontalalignment='center',verticalalignment='top')     \n",
    "plt.show()\n",
    "\n",
    "# affichage des quartiles\n",
    "plt.figure(figsize=(7,5))\n",
    "for n_quartile in range(3):\n",
    "    plt.plot([g[\"centre_classe\"] for g in groupes],\n",
    "             [g[\"quartiles\"][n_quartile] for g in groupes])\n",
    "plt.show()"
   ]
  },
  {
   "cell_type": "markdown",
   "metadata": {},
   "source": [
    "###### Correlation et Covariance"
   ]
  },
  {
   "cell_type": "code",
   "execution_count": 24,
   "metadata": {},
   "outputs": [],
   "source": [
    "import scipy.stats as st"
   ]
  },
  {
   "cell_type": "code",
   "execution_count": 25,
   "metadata": {},
   "outputs": [
    {
     "name": "stdout",
     "output_type": "stream",
     "text": [
      "coefficient de correlation : 0.014536146489774594\n"
     ]
    }
   ],
   "source": [
    "print(\"coefficient de correlation :\",st.pearsonr(depenses[\"solde_avt_ope\"],-depenses[\"montant\"])[0])"
   ]
  },
  {
   "cell_type": "code",
   "execution_count": 26,
   "metadata": {},
   "outputs": [
    {
     "name": "stdout",
     "output_type": "stream",
     "text": [
      "covariance solde et montant : 705.0942213554379\n"
     ]
    }
   ],
   "source": [
    "print(\"covariance solde et montant :\",np.cov(depenses[\"solde_avt_ope\"],-depenses[\"montant\"],ddof=0)[1,0])"
   ]
  },
  {
   "cell_type": "markdown",
   "metadata": {},
   "source": [
    "## Régression linéaire"
   ]
  },
  {
   "cell_type": "markdown",
   "metadata": {},
   "source": [
    "### Calcul de la variable *attente* entre 2 courses"
   ]
  },
  {
   "cell_type": "code",
   "execution_count": 27,
   "metadata": {},
   "outputs": [],
   "source": [
    "import datetime as dt\n",
    "\n",
    "# Selection du sous-échantillon\n",
    "courses = data[data.categ == \"COURSES\"]\n",
    "\n",
    "# On trie les opérations par date\n",
    "courses = courses.sort_values(\"date_operation\")\n",
    "\n",
    "# On ramène les montants en positif\n",
    "courses[\"montant\"] = -courses[\"montant\"]\n",
    "\n",
    "# calcul de la variable attente\n",
    "r = []\n",
    "last_date = dt.datetime.now()\n",
    "for i,row in courses.iterrows():\n",
    "    days = (row[\"date_operation\"]-last_date).days\n",
    "    if days == 0:\n",
    "        r.append(r[-1])\n",
    "    else:\n",
    "        r.append(days)\n",
    "    last_date = row[\"date_operation\"]\n",
    "courses[\"attente\"] = r\n",
    "courses = courses.iloc[1:,]\n",
    "\n",
    "# on regroupe les opérations qui ont été effectués à la même date\n",
    "# (courses réalisées le même jour mais dans 2 magasins différents)\n",
    "a = courses.groupby(\"date_operation\")[\"montant\"].sum()\n",
    "b = courses.groupby(\"date_operation\")[\"attente\"].first()\n",
    "courses = pd.DataFrame([a for a in zip(a,b)])\n",
    "courses.columns = [\"montant\",\"attente\"]"
   ]
  },
  {
   "cell_type": "code",
   "execution_count": 28,
   "metadata": {},
   "outputs": [
    {
     "data": {
      "image/png": "[encoded data removed]",
      "text/plain": [
       "<Figure size 504x360 with 1 Axes>"
      ]
     },
     "metadata": {
      "needs_background": "light"
     },
     "output_type": "display_data"
    }
   ],
   "source": [
    "plt.figure(figsize=(7,5))\n",
    "plt.plot(courses.attente,courses.montant, \"o\")\n",
    "plt.xlabel(\"attente\")\n",
    "plt.ylabel(\"montant\")\n",
    "plt.title(\"Dispersion du montant en fonction de l'attente\")\n",
    "plt.show()"
   ]
  },
  {
   "cell_type": "markdown",
   "metadata": {},
   "source": [
    "### Régression linéaire"
   ]
  },
  {
   "cell_type": "code",
   "execution_count": 29,
   "metadata": {},
   "outputs": [
    {
     "data": {
      "text/plain": [
       "attente       1.736578\n",
       "intercept    10.944848\n",
       "dtype: float64"
      ]
     },
     "execution_count": 29,
     "metadata": {},
     "output_type": "execute_result"
    }
   ],
   "source": [
    "import statsmodels.api as sm\n",
    "\n",
    "Y = courses['montant']\n",
    "X = courses[['attente']]\n",
    "X = X.copy() # On modifiera X, on en crée donc une copie\n",
    "X['intercept'] = 1.\n",
    "result = sm.OLS(Y, X).fit() # OLS = Ordinary Least Square (Moindres Carrés Ordinaire)\n",
    "a,b = result.params['attente'],result.params['intercept']\n",
    "\n",
    "result.params"
   ]
  },
  {
   "cell_type": "code",
   "execution_count": 30,
   "metadata": {},
   "outputs": [
    {
     "data": {
      "image/png": "[encoded data removed]",
      "text/plain": [
       "<Figure size 504x360 with 1 Axes>"
      ]
     },
     "metadata": {
      "needs_background": "light"
     },
     "output_type": "display_data"
    }
   ],
   "source": [
    "plt.figure(figsize=(7,5))\n",
    "plt.plot(courses.attente,courses.montant, \"o\")\n",
    "plt.plot(np.arange(15),[a*x+b for x in np.arange(15)], label = \"Regression lineaire\")\n",
    "plt.xlabel(\"attente\")\n",
    "plt.ylabel(\"montant\")\n",
    "plt.title(\"Dispersion du montant en fonction de l'attente\")\n",
    "plt.legend()\n",
    "plt.show()"
   ]
  },
  {
   "cell_type": "markdown",
   "metadata": {},
   "source": [
    "### Régression linéaire sans outliers"
   ]
  },
  {
   "cell_type": "code",
   "execution_count": 31,
   "metadata": {},
   "outputs": [],
   "source": [
    "courses = courses[courses.attente < 15]"
   ]
  },
  {
   "cell_type": "code",
   "execution_count": 32,
   "metadata": {},
   "outputs": [
    {
     "name": "stdout",
     "output_type": "stream",
     "text": [
      "attente      3.030823\n",
      "intercept    5.411480\n",
      "dtype: float64\n"
     ]
    },
    {
     "data": {
      "image/png": "[encoded data removed]",
      "text/plain": [
       "<Figure size 504x360 with 1 Axes>"
      ]
     },
     "metadata": {
      "needs_background": "light"
     },
     "output_type": "display_data"
    }
   ],
   "source": [
    "Y = courses['montant']\n",
    "X = courses[['attente']]\n",
    "X = X.copy() # On modifiera X, on en crée donc une copie\n",
    "X['intercept'] = 1.\n",
    "result = sm.OLS(Y, X).fit() # OLS = Ordinary Least Square (Moindres Carrés Ordinaire)\n",
    "a,b = result.params['attente'],result.params['intercept']\n",
    "\n",
    "print(result.params)\n",
    "\n",
    "plt.figure(figsize=(7,5))\n",
    "plt.plot(courses.attente,courses.montant, \"o\")\n",
    "plt.plot(np.arange(15),[a*x+b for x in np.arange(15)],label = \"Regression lineaire\")\n",
    "plt.xlabel(\"attente\")\n",
    "plt.ylabel(\"montant\")\n",
    "plt.title(\"Dispersion du montant en fonction de l'attente\")\n",
    "plt.legend()\n",
    "plt.show()"
   ]
  },
  {
   "cell_type": "markdown",
   "metadata": {
    "collapsed": true
   },
   "source": [
    "# Analyse bivariée : 1 variable quanti et 1 quali"
   ]
  },
  {
   "cell_type": "code",
   "execution_count": 33,
   "metadata": {},
   "outputs": [],
   "source": [
    "X = \"categ\" # qualitative\n",
    "Y = \"montant\" # quantitative\n",
    "\n",
    "# On ne garde que les dépenses\n",
    "sous_echantillon = data[data[\"montant\"] < 0].copy()\n",
    "# On remet les dépenses en positif\n",
    "sous_echantillon[\"montant\"] = -sous_echantillon[\"montant\"]\n",
    "# On n'étudie pas les loyers car trop gros:\n",
    "sous_echantillon = sous_echantillon[sous_echantillon[\"categ\"] != \"LOYER\"] "
   ]
  },
  {
   "cell_type": "code",
   "execution_count": 34,
   "metadata": {},
   "outputs": [],
   "source": [
    "# Changement de la palette graphique\n",
    "sns.set_palette(sns.color_palette(\"colorblind\", 3))"
   ]
  },
  {
   "cell_type": "code",
   "execution_count": 35,
   "metadata": {
    "scrolled": false
   },
   "outputs": [
    {
     "data": {
      "image/png": "[encoded data removed]",
      "text/plain": [
       "<Figure size 504x360 with 1 Axes>"
      ]
     },
     "metadata": {
      "needs_background": "light"
     },
     "output_type": "display_data"
    }
   ],
   "source": [
    "modalites = sous_echantillon[X].unique()\n",
    "groupes = []\n",
    "for m in modalites:\n",
    "    groupes.append(sous_echantillon[sous_echantillon[X]==m][Y])\n",
    "    \n",
    "medianprops = {'color':\"black\"}\n",
    "meanprops = {'marker':'o', 'markeredgecolor':'black',\n",
    "            'markerfacecolor':'firebrick'}\n",
    "\n",
    "plt.figure(figsize=(7,5))\n",
    "plt.boxplot(groupes, labels=modalites, showfliers=False, medianprops=medianprops, \n",
    "            vert=False, patch_artist=True, showmeans=True, meanprops=meanprops)\n",
    "plt.show()"
   ]
  },
  {
   "cell_type": "markdown",
   "metadata": {
    "collapsed": true
   },
   "source": [
    "## ANOVA"
   ]
  },
  {
   "cell_type": "code",
   "execution_count": 36,
   "metadata": {},
   "outputs": [
    {
     "name": "stdout",
     "output_type": "stream",
     "text": [
      "Rapport de corrélation : 0.39841890401094926\n"
     ]
    }
   ],
   "source": [
    "X = \"categ\" # qualitative\n",
    "Y = \"montant\" # quantitative\n",
    "\n",
    "# On ne garde que les dépenses\n",
    "sous_echantillon = data[data[\"montant\"] < 0]\n",
    "\n",
    "def eta_squared(x,y):\n",
    "    moyenne_y = y.mean()\n",
    "    classes = []\n",
    "    for classe in x.unique():\n",
    "        yi_classe = y[x==classe]\n",
    "        classes.append({'ni': len(yi_classe),\n",
    "                        'moyenne_classe': yi_classe.mean()})\n",
    "    SCT = sum([(yj-moyenne_y)**2 for yj in y])\n",
    "    SCE = sum([c['ni']*(c['moyenne_classe']-moyenne_y)**2 for c in classes])\n",
    "    return SCE/SCT\n",
    "    \n",
    "print(\"Rapport de corrélation :\",eta_squared(sous_echantillon[X],sous_echantillon[Y]))"
   ]
  },
  {
   "cell_type": "markdown",
   "metadata": {
    "collapsed": true
   },
   "source": [
    "# Analyse bivariée : 1 variable quanti et 1 quali"
   ]
  },
  {
   "cell_type": "code",
   "execution_count": 37,
   "metadata": {},
   "outputs": [
    {
     "data": {
      "text/html": [
       "<div>\n",
       "<style scoped>\n",
       "    .dataframe tbody tr th:only-of-type {\n",
       "        vertical-align: middle;\n",
       "    }\n",
       "\n",
       "    .dataframe tbody tr th {\n",
       "        vertical-align: top;\n",
       "    }\n",
       "\n",
       "    .dataframe thead th {\n",
       "        text-align: right;\n",
       "    }\n",
       "</style>\n",
       "<table border=\"1\" class=\"dataframe\">\n",
       "  <thead>\n",
       "    <tr style=\"text-align: right;\">\n",
       "      <th>categ</th>\n",
       "      <th>AUTRE</th>\n",
       "      <th>COTISATION BANCAIRE</th>\n",
       "      <th>COURSES</th>\n",
       "      <th>FACTURE TELEPHONE</th>\n",
       "      <th>LOYER</th>\n",
       "      <th>RESTAURANT</th>\n",
       "      <th>TRANSPORT</th>\n",
       "      <th>Total</th>\n",
       "    </tr>\n",
       "    <tr>\n",
       "      <th>quart_mois</th>\n",
       "      <th></th>\n",
       "      <th></th>\n",
       "      <th></th>\n",
       "      <th></th>\n",
       "      <th></th>\n",
       "      <th></th>\n",
       "      <th></th>\n",
       "      <th></th>\n",
       "    </tr>\n",
       "  </thead>\n",
       "  <tbody>\n",
       "    <tr>\n",
       "      <td>1</td>\n",
       "      <td>55.0</td>\n",
       "      <td>7.0</td>\n",
       "      <td>6.0</td>\n",
       "      <td>6.0</td>\n",
       "      <td>NaN</td>\n",
       "      <td>3.0</td>\n",
       "      <td>9.0</td>\n",
       "      <td>86.0</td>\n",
       "    </tr>\n",
       "    <tr>\n",
       "      <td>2</td>\n",
       "      <td>45.0</td>\n",
       "      <td>NaN</td>\n",
       "      <td>11.0</td>\n",
       "      <td>1.0</td>\n",
       "      <td>6.0</td>\n",
       "      <td>7.0</td>\n",
       "      <td>6.0</td>\n",
       "      <td>76.0</td>\n",
       "    </tr>\n",
       "    <tr>\n",
       "      <td>3</td>\n",
       "      <td>60.0</td>\n",
       "      <td>NaN</td>\n",
       "      <td>7.0</td>\n",
       "      <td>NaN</td>\n",
       "      <td>NaN</td>\n",
       "      <td>4.0</td>\n",
       "      <td>4.0</td>\n",
       "      <td>75.0</td>\n",
       "    </tr>\n",
       "    <tr>\n",
       "      <td>4</td>\n",
       "      <td>52.0</td>\n",
       "      <td>NaN</td>\n",
       "      <td>15.0</td>\n",
       "      <td>NaN</td>\n",
       "      <td>NaN</td>\n",
       "      <td>2.0</td>\n",
       "      <td>2.0</td>\n",
       "      <td>71.0</td>\n",
       "    </tr>\n",
       "    <tr>\n",
       "      <td>total</td>\n",
       "      <td>212.0</td>\n",
       "      <td>7.0</td>\n",
       "      <td>39.0</td>\n",
       "      <td>7.0</td>\n",
       "      <td>6.0</td>\n",
       "      <td>16.0</td>\n",
       "      <td>21.0</td>\n",
       "      <td>308.0</td>\n",
       "    </tr>\n",
       "  </tbody>\n",
       "</table>\n",
       "</div>"
      ],
      "text/plain": [
       "categ       AUTRE  COTISATION BANCAIRE  COURSES  FACTURE TELEPHONE  LOYER  \\\n",
       "quart_mois                                                                  \n",
       "1            55.0                  7.0      6.0                6.0    NaN   \n",
       "2            45.0                  NaN     11.0                1.0    6.0   \n",
       "3            60.0                  NaN      7.0                NaN    NaN   \n",
       "4            52.0                  NaN     15.0                NaN    NaN   \n",
       "total       212.0                  7.0     39.0                7.0    6.0   \n",
       "\n",
       "categ       RESTAURANT  TRANSPORT  Total  \n",
       "quart_mois                                \n",
       "1                  3.0        9.0   86.0  \n",
       "2                  7.0        6.0   76.0  \n",
       "3                  4.0        4.0   75.0  \n",
       "4                  2.0        2.0   71.0  \n",
       "total             16.0       21.0  308.0  "
      ]
     },
     "execution_count": 37,
     "metadata": {},
     "output_type": "execute_result"
    }
   ],
   "source": [
    "X = \"quart_mois\"\n",
    "Y = \"categ\"\n",
    "\n",
    "c = data[[X,Y]].pivot_table(index=X,columns=Y,aggfunc=len)\n",
    "cont = c.copy()\n",
    "\n",
    "tx = data[X].value_counts()\n",
    "ty = data[Y].value_counts()\n",
    "\n",
    "cont.loc[:,\"Total\"] = tx\n",
    "cont.loc[\"total\",:] = ty\n",
    "cont.loc[\"total\",\"Total\"] = len(data)\n",
    "cont"
   ]
  },
  {
   "cell_type": "code",
   "execution_count": 38,
   "metadata": {},
   "outputs": [],
   "source": [
    "tx = pd.DataFrame(tx)\n",
    "ty = pd.DataFrame(ty)\n",
    "tx.columns = [\"foo\"]\n",
    "ty.columns = [\"foo\"]\n",
    "n = len(data)\n",
    "indep = tx.dot(ty.T) / n\n",
    "\n",
    "c = c.fillna(0) # on remplace les valeurs nulles par des 0\n",
    "mesure = (c-indep)**2/indep\n",
    "xi_n = mesure.sum().sum()"
   ]
  },
  {
   "cell_type": "code",
   "execution_count": 39,
   "metadata": {},
   "outputs": [
    {
     "data": {
      "text/plain": [
       "<AxesSubplot:ylabel='quart_mois'>"
      ]
     },
     "execution_count": 39,
     "metadata": {},
     "output_type": "execute_result"
    },
    {
     "data": {
      "image/png": "[encoded data removed]",
      "text/plain": [
       "<Figure size 720x360 with 2 Axes>"
      ]
     },
     "metadata": {
      "needs_background": "light"
     },
     "output_type": "display_data"
    }
   ],
   "source": [
    "plt.figure(figsize=(10,5))\n",
    "sns.heatmap(mesure/xi_n, annot=c, linewidth=0.1)"
   ]
  },
  {
   "cell_type": "code",
   "execution_count": null,
   "metadata": {},
   "outputs": [],
   "source": []
  }
 ],
 "metadata": {
  "kernelspec": {
   "display_name": "Python 3",
   "language": "python",
   "name": "python3"
  },
  "language_info": {
   "codemirror_mode": {
    "name": "ipython",
    "version": 3
   },
   "file_extension": ".py",
   "mimetype": "text/x-python",
   "name": "python",
   "nbconvert_exporter": "python",
   "pygments_lexer": "ipython3",
   "version": "3.7.4"
  }
 },
 "nbformat": 4,
 "nbformat_minor": 2
}
